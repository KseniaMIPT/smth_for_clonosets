{
 "cells": [
  {
   "cell_type": "code",
   "execution_count": 1,
   "metadata": {},
   "outputs": [],
   "source": [
    "import os\n",
    "import subprocess\n",
    "from subprocess import Popen, PIPE"
   ]
  },
  {
   "cell_type": "code",
   "execution_count": 2,
   "metadata": {},
   "outputs": [],
   "source": [
    "def bash(cmd):\n",
    "    process = Popen(cmd, stdout=PIPE, stderr=PIPE, shell=True)\n",
    "    stdout, stderr = process.communicate()\n",
    "\n",
    "    print(stderr.decode('ascii'))\n",
    "    print(stdout.decode('ascii'))"
   ]
  },
  {
   "cell_type": "markdown",
   "metadata": {},
   "source": [
    "Barcode file creating"
   ]
  },
  {
   "cell_type": "code",
   "execution_count": null,
   "metadata": {},
   "outputs": [],
   "source": [
    "path_to_raw_data = '' # write path to ypur data"
   ]
  },
  {
   "cell_type": "code",
   "execution_count": null,
   "metadata": {},
   "outputs": [],
   "source": [
    "bash(f'ls {path_to_raw_data} > names.txt')"
   ]
  },
  {
   "cell_type": "code",
   "execution_count": null,
   "metadata": {},
   "outputs": [],
   "source": [
    "with open(f'barcode_file.tsv', 'w') as file:\n",
    "    with open('names.txt') as names:\n",
    "        for name in names.readlines():\n",
    "            name = name[:-1]\n",
    "            if name.find('R1') != -1:\n",
    "                sample_id = name.split('_R1')[0]\n",
    "                name_R2 = name.replace('R1', 'R2')\n",
    "                file.write(f'{sample_id}\\ttggtatcaacgcagagtNNNNtNNNNtNNNN\\t\\t{path_to_raw_data}/{name}\\t{path_to_raw_data}/{name_R2}\\n')"
   ]
  },
  {
   "cell_type": "markdown",
   "metadata": {},
   "source": [
    "# migec"
   ]
  },
  {
   "cell_type": "code",
   "execution_count": null,
   "metadata": {},
   "outputs": [],
   "source": [
    "bash('migec CheckoutBatch -cute barcode_file.tsv checkout')"
   ]
  },
  {
   "cell_type": "code",
   "execution_count": null,
   "metadata": {},
   "outputs": [],
   "source": [
    "bash('migec Histogram checkout/ histogram/')"
   ]
  },
  {
   "cell_type": "markdown",
   "metadata": {},
   "source": [
    "Overseq heatmap "
   ]
  },
  {
   "cell_type": "code",
   "execution_count": null,
   "metadata": {},
   "outputs": [],
   "source": [
    "overseq = pd.read_csv(f\"./histogram/overseq.txt\", sep=\"\\t\", header=0)\n",
    "plt.rcParams['figure.figsize'] = [10, 10] # change these numbers to change figure size\n",
    "labels=overseq.loc[:,\"1\":\"1024\"]\n",
    "overseq_scaled=overseq.loc[:,\"1\":\"1024\"].div(overseq.loc[:,\"1\":\"1024\"].max(axis=1), axis=0)\n",
    "fig = sns.heatmap(overseq_scaled,yticklabels=overseq[\"#SAMPLE_ID\"],annot=labels, fmt=\"d\")\n",
    "fig.get_figure().savefig('overseq.png')"
   ]
  },
  {
   "cell_type": "markdown",
   "metadata": {},
   "source": [
    "Treshold 2 !!!"
   ]
  },
  {
   "cell_type": "code",
   "execution_count": null,
   "metadata": {},
   "outputs": [],
   "source": [
    "bash('migec AssembleBatch --force-overseq 2 -c checkout/ histogram/ assemble/')"
   ]
  },
  {
   "cell_type": "markdown",
   "metadata": {},
   "source": [
    "# mixcr"
   ]
  },
  {
   "cell_type": "code",
   "execution_count": null,
   "metadata": {},
   "outputs": [],
   "source": [
    "os.mkdir('analyze')"
   ]
  },
  {
   "cell_type": "markdown",
   "metadata": {},
   "source": [
    "MusMusculus!!!"
   ]
  },
  {
   "cell_type": "code",
   "execution_count": null,
   "metadata": {},
   "outputs": [],
   "source": [
    "with open(f'assemble/assemble.log.txt') as file:\n",
    "    file.readline()\n",
    "    for line in file.readlines():\n",
    "        line = line.split('\\t')\n",
    "        name = line[0]\n",
    "        R1 = line[4]\n",
    "        R2 = line[5]\n",
    "        bash(f'mixcr analyze amplicon -s MusMusculus --starting-material rna --5-end no-v-primers \\\n",
    "                    --3-end c-primers --adapters no-adapters {R1} {R2} analyze/{name}')"
   ]
  },
  {
   "cell_type": "markdown",
   "metadata": {},
   "source": [
    "# vdjtools"
   ]
  },
  {
   "cell_type": "code",
   "execution_count": null,
   "metadata": {},
   "outputs": [],
   "source": [
    "os.mkdir('convert')"
   ]
  },
  {
   "cell_type": "code",
   "execution_count": null,
   "metadata": {},
   "outputs": [],
   "source": [
    "bash('ls analyze > analyze_names.txt')"
   ]
  },
  {
   "cell_type": "code",
   "execution_count": null,
   "metadata": {},
   "outputs": [],
   "source": [
    "# there you can add additional information that can be extracted from names\n",
    "with open(f'analyze/metadata.txt', 'w') as metadata:\n",
    "    metadata.write('file_name\\tsample_id\\n')\n",
    "    with open(f'analyze_names.txt') as names:\n",
    "        for name in names.readlines():\n",
    "            if name.find('clonotypes.TRB.') != -1:\n",
    "                name = name[:-1]\n",
    "                sample_id = name.split('.clonotypes.')[0]\n",
    "                metadata.write(f'{name}\\t{sample_id}\\n')"
   ]
  },
  {
   "cell_type": "code",
   "execution_count": null,
   "metadata": {},
   "outputs": [],
   "source": [
    "bash('vdjtools Convert -S MiXcr -m analyze/metadata.txt convert/')"
   ]
  },
  {
   "cell_type": "code",
   "execution_count": null,
   "metadata": {},
   "outputs": [],
   "source": [
    "os.mkdir('filtered')"
   ]
  },
  {
   "cell_type": "code",
   "execution_count": null,
   "metadata": {},
   "outputs": [],
   "source": [
    "bash('vdjtools FilterNonFunctional -m convert/metadata.txt filtered/')"
   ]
  },
  {
   "cell_type": "code",
   "execution_count": null,
   "metadata": {},
   "outputs": [],
   "source": [
    "bash('vdjtools CalcBasicStats -m filtered/metadata.txt filtered')"
   ]
  }
 ],
 "metadata": {
  "kernelspec": {
   "display_name": "Python 3",
   "language": "python",
   "name": "python3"
  },
  "language_info": {
   "codemirror_mode": {
    "name": "ipython",
    "version": 3
   },
   "file_extension": ".py",
   "mimetype": "text/x-python",
   "name": "python",
   "nbconvert_exporter": "python",
   "pygments_lexer": "ipython3",
   "version": "3.6.9"
  }
 },
 "nbformat": 4,
 "nbformat_minor": 4
}
